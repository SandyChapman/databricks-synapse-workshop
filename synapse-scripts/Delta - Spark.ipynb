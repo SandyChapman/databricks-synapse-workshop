{
  "cells": [
    {
      "cell_type": "code",
      "source": [
        "print('Hello, World!')"
      ],
      "outputs": [
        {
          "output_type": "display_data",
          "data": {
            "application/vnd.livy.statement-meta+json": {
              "spark_pool": "spark24pool",
              "session_id": 0,
              "statement_id": 1,
              "state": "finished",
              "livy_statement_state": "available",
              "queued_time": "2021-06-15T13:12:31.7266961Z",
              "session_start_time": "2021-06-15T13:12:31.7702817Z",
              "execution_start_time": "2021-06-15T13:14:47.3436175Z",
              "execution_finish_time": "2021-06-15T13:14:49.4174797Z"
            },
            "text/plain": "StatementMeta(spark24pool, 0, 1, Finished, Available)"
          },
          "metadata": {}
        },
        {
          "output_type": "stream",
          "name": "stdout",
          "text": [
            "Hello, World!"
          ]
        }
      ],
      "execution_count": 1,
      "metadata": {}
    },
    {
      "cell_type": "code",
      "source": [
        "container_name = 'synstorage'\n",
        "storage_account_name = 'strdbwsynworkshop'\n",
        "df = spark.read.format('delta').load(f'abfss://{container_name}@{storage_account_name}.dfs.core.windows.net/delta_test')"
      ],
      "outputs": [
        {
          "output_type": "display_data",
          "data": {
            "application/vnd.livy.statement-meta+json": {
              "spark_pool": "spark24pool",
              "session_id": 0,
              "statement_id": 7,
              "state": "finished",
              "livy_statement_state": "available",
              "queued_time": "2021-06-15T13:18:17.3207005Z",
              "session_start_time": null,
              "execution_start_time": "2021-06-15T13:18:17.4381834Z",
              "execution_finish_time": "2021-06-15T13:18:38.1345905Z"
            },
            "text/plain": "StatementMeta(spark24pool, 0, 7, Finished, Available)"
          },
          "metadata": {}
        },
        {
          "output_type": "stream",
          "name": "stdout",
          "text": []
        }
      ],
      "execution_count": 7,
      "metadata": {
        "collapsed": true,
        "jupyter": {
          "source_hidden": false,
          "outputs_hidden": false
        },
        "nteract": {
          "transient": {
            "deleting": false
          }
        }
      }
    },
    {
      "cell_type": "code",
      "source": [
        "display(df)"
      ],
      "outputs": [
        {
          "output_type": "display_data",
          "data": {
            "application/vnd.livy.statement-meta+json": {
              "spark_pool": "spark24pool",
              "session_id": 0,
              "statement_id": 8,
              "state": "finished",
              "livy_statement_state": "available",
              "queued_time": "2021-06-15T13:18:48.2233104Z",
              "session_start_time": null,
              "execution_start_time": "2021-06-15T13:18:48.3334901Z",
              "execution_finish_time": "2021-06-15T13:18:58.7085044Z"
            },
            "text/plain": "StatementMeta(spark24pool, 0, 8, Finished, Available)"
          },
          "metadata": {}
        },
        {
          "output_type": "display_data",
          "data": {
            "application/vnd.synapse.widget-view+json": {
              "widget_id": "d1e4dd59-45dd-41e2-ad74-522d8f318adc",
              "widget_type": "Synapse.DataFrame"
            },
            "text/plain": "SynapseWidget(Synapse.DataFrame, d1e4dd59-45dd-41e2-ad74-522d8f318adc)"
          },
          "metadata": {}
        },
        {
          "output_type": "execute_result",
          "execution_count": 8,
          "data": {},
          "metadata": {}
        }
      ],
      "execution_count": 8,
      "metadata": {
        "collapsed": false,
        "jupyter": {
          "source_hidden": false,
          "outputs_hidden": false
        },
        "nteract": {
          "transient": {
            "deleting": false
          }
        }
      }
    },
    {
      "cell_type": "code",
      "source": [],
      "outputs": [],
      "execution_count": null,
      "metadata": {
        "collapsed": true,
        "jupyter": {
          "source_hidden": false,
          "outputs_hidden": false
        },
        "nteract": {
          "transient": {
            "deleting": false
          }
        }
      }
    }
  ],
  "metadata": {
    "kernelspec": {
      "name": "synapse_pyspark",
      "language": "Python",
      "display_name": "Synapse PySpark"
    },
    "language_info": {
      "name": "python"
    },
    "kernel_info": {
      "name": "synapse_pyspark"
    },
    "save_output": true,
    "synapse_widget": {
      "version": "0.1",
      "state": {
        "d1e4dd59-45dd-41e2-ad74-522d8f318adc": {
          "type": "Synapse.DataFrame",
          "sync_state": {
            "table": {
              "rows": [
                {
                  "id": 1,
                  "a": 4,
                  "b": "5",
                  "c": 6.28
                },
                {
                  "id": 0,
                  "a": 1,
                  "b": "2",
                  "c": 3.14
                },
                {
                  "id": 2,
                  "a": 7,
                  "b": "8",
                  "c": 9.42
                }
              ],
              "schema": {
                "id": "int",
                "a": "int",
                "b": "string",
                "c": "float"
              }
            },
            "isSummary": false,
            "language": "scala"
          },
          "persist_state": {
            "view": {
              "type": "details",
              "tableOptions": {},
              "chartOptions": {
                "chartType": "bar",
                "aggregationType": "sum",
                "categoryFieldKeys": [
                  "a"
                ],
                "seriesFieldKeys": [
                  "id"
                ],
                "isStacked": false
              }
            }
          }
        }
      }
    }
  },
  "nbformat": 4,
  "nbformat_minor": 2
}